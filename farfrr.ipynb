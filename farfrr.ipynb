{
 "cells": [
  {
   "cell_type": "code",
   "execution_count": 140,
   "id": "369aa6db",
   "metadata": {},
   "outputs": [],
   "source": [
    "\n",
    "def curve(filename):\n",
    "    name=[]\n",
    "    dis=[]\n",
    "    pairs=[]\n",
    "    cnt=0\n",
    "    with open(filename) as f:\n",
    "        lines = f.readlines()\n",
    "        for l in lines:\n",
    "            s = l.split()\n",
    "            name.append(s[0])\n",
    "            dis.append([float(x) for x in s[1:]])\n",
    "            i=len(dis)-1\n",
    "            for j in range(len(dis[i])):\n",
    "                if i<j:\n",
    "                    pairs.append((dis[i][j],i,j))\n",
    "    pairs.sort()\n",
    "    \n",
    "    def same(i,j):\n",
    "        return name[i][:5] == name[j][:5]\n",
    "\n",
    "    atFAR=[0,10**(-7),10**(-6),10**(-5)]\n",
    "    FRR=[1,1,1,1]\n",
    "    \n",
    "    atFRR=[0,0.01,0.015,0.02]\n",
    "    FAR=[1,1,1,1]\n",
    "    para=[1,1,1,1]\n",
    "    cnt = 0 \n",
    "    tp,fp=0,0\n",
    "    tn,fn=0,0\n",
    "    for v,i,j in pairs:\n",
    "        if same(i,j):\n",
    "            fn+=1\n",
    "        else:\n",
    "            tn+=1\n",
    "\n",
    "    arr_x=[]\n",
    "    arr_y=[]\n",
    "    for v,i,j in pairs:\n",
    "        if same(i,j):\n",
    "            tp+=1\n",
    "            fn-=1\n",
    "        else:\n",
    "            fp+=1\n",
    "            tn-=1\n",
    "        cnt+=1\n",
    "        #print(fp/cnt,tp/p)\n",
    "        far = fp/(fp+tn)\n",
    "        frr = fn/(fn+tp)\n",
    "\n",
    "        arr_x.append(frr)\n",
    "        arr_y.append(far)\n",
    "        #print(frr,far,v)\n",
    "        for i in range(len(atFAR)):\n",
    "            if atFAR[i]>=far:\n",
    "                if frr<FRR[i]:\n",
    "                    FRR[i]=frr\n",
    "                    para[i]=v\n",
    "        for i in range(len(atFRR)):\n",
    "            if atFRR[i]>=frr:\n",
    "                if FAR[i]==1:\n",
    "                    FAR[i]=far\n",
    "                    #para[i]=v\n",
    "    print(FRR)\n",
    "    print(para)\n",
    "    mn=1\n",
    "    ans=(0,0)\n",
    "    for i in range(len(arr_x)):\n",
    "        if abs(arr_x[i]-arr_y[i])<mn:\n",
    "            mn=abs(arr_x[i]-arr_y[i])\n",
    "            ans=(arr_x[i],arr_y[i])\n",
    "    print(mn,ans)"
   ]
  },
  {
   "cell_type": "code",
   "execution_count": 141,
   "id": "03458515",
   "metadata": {
    "scrolled": true
   },
   "outputs": [
    {
     "name": "stdout",
     "output_type": "stream",
     "text": [
      "[0.0855690482914431, 0.0855690482914431, 0.020615645297938436, 0.0005648121999435188]\n",
      "[0.102858, 0.102858, 0.117116, 0.136091]\n",
      "6.656398149167131e-08 (0.0005648121999435188, 0.0005647456359620271)\n",
      "[0.0005648121999435188, 0.0005648121999435188, 0.0005648121999435188, 0.0002824060999717594]\n",
      "[0.0580299, 0.0580299, 0.0580299, 0.0606108]\n",
      "3.434451145624883e-05 (0.0, 3.434451145624883e-05)\n",
      "[0.0, 0.0, 0.0, 0.0]\n",
      "[0.073644, 0.073644, 0.073644, 0.073644]\n",
      "0.0 (0.0, 0.0)\n",
      "[0.024569330697543065, 0.024569330697543065, 0.0031064670996893535, 0.0]\n",
      "[0.763572, 0.763572, 0.849296, 0.931558]\n",
      "1.1078874663306074e-06 (0.0, 1.1078874663306074e-06)\n"
     ]
    }
   ],
   "source": [
    "curve('di_insight_sort_linf_feret')\n",
    "curve('di_insight_sort_e8_feret')\n",
    "curve('di_insight_sort_le_feret')\n",
    "curve('di_insight_sort_l2_feret')"
   ]
  },
  {
   "cell_type": "code",
   "execution_count": 109,
   "id": "40921a01",
   "metadata": {},
   "outputs": [],
   "source": [
    "import numpy\n",
    "import scipy\n",
    "import scipy.stats\n",
    "import scipy.optimize\n",
    "import random\n",
    "import matplotlib\n",
    "import matplotlib.pyplot as plt\n",
    "import math\n",
    "\n",
    "\n",
    "\n",
    "def fit(x,y,t0,flag=False):\n",
    "    \n",
    "    def f(x,a,b,c,d):\n",
    "        return scipy.stats.johnsonsu.cdf(x,a,b,c,d)  \n",
    "\n",
    "    para,_=scipy.optimize.curve_fit(f,x,y,maxfev=50000)\n",
    "    rv=scipy.stats.johnsonsu(para[0],para[1],para[2],para[3])\n",
    "    y2=numpy.array(list(map(rv.cdf,x)))\n",
    "    if flag:\n",
    "        plt.plot(x,y)\n",
    "        plt.plot(x,y2)\n",
    "        plt.show() \n",
    "    if rv.cdf(t0)<=0:\n",
    "        return 999\n",
    "    return -math.log2(rv.cdf(t0))"
   ]
  },
  {
   "cell_type": "code",
   "execution_count": 112,
   "id": "0a34c389",
   "metadata": {},
   "outputs": [
    {
     "name": "stdout",
     "output_type": "stream",
     "text": [
      "0.20058727264404297 20\n",
      "0.19004535675048828 30\n",
      "0.18323326110839844 40\n",
      "0.16993999481201172 80\n",
      "0.16453266143798828 120\n"
     ]
    },
    {
     "data": {
      "image/png": "[encoded data removed]",
      "text/plain": [
       "<Figure size 432x288 with 1 Axes>"
      ]
     },
     "metadata": {
      "needs_background": "light"
     },
     "output_type": "display_data"
    },
    {
     "name": "stdout",
     "output_type": "stream",
     "text": [
      "0.039165496826171875 20\n",
      "0.026403427124023438 30\n",
      "0.008515357971191406 40\n",
      "0 80\n",
      "0 120\n"
     ]
    },
    {
     "data": {
      "image/png": "[encoded data removed]",
      "text/plain": [
       "<Figure size 432x288 with 1 Axes>"
      ]
     },
     "metadata": {
      "needs_background": "light"
     },
     "output_type": "display_data"
    },
    {
     "name": "stdout",
     "output_type": "stream",
     "text": [
      "0.06371688842773438 20\n",
      "0.06244087219238281 30\n",
      "0.061664581298828125 40\n",
      "0.06029701232910156 80\n",
      "0.059818267822265625 120\n"
     ]
    },
    {
     "data": {
      "image/png": "[encoded data removed]",
      "text/plain": [
       "<Figure size 432x288 with 1 Axes>"
      ]
     },
     "metadata": {
      "needs_background": "light"
     },
     "output_type": "display_data"
    }
   ],
   "source": [
    "def estimate(filename):\n",
    "    arr_x=[]\n",
    "    arr_y=[]\n",
    "    with open(filename) as file:\n",
    "        for l in file.readlines():\n",
    "            x,y=[float(t) for t in l.strip().split()]\n",
    "            arr_x.append(x)\n",
    "            arr_y.append(y)\n",
    "    for target in [20,30,40,80,120]:\n",
    "        l=0\n",
    "        r=1\n",
    "        while r-l>1e-6:\n",
    "            mid=(l+r)/2\n",
    "            ans=fit(arr_x,arr_y,mid)\n",
    "            if ans > target:\n",
    "                l=mid\n",
    "            else:\n",
    "                r=mid\n",
    "        print(l,target)\n",
    "    fit(arr_x,arr_y,0,True)\n",
    "estimate('prob_linf')\n",
    "estimate('prob_e8')\n",
    "estimate('prob_le')"
   ]
  },
  {
   "cell_type": "code",
   "execution_count": 111,
   "id": "d2036bdd",
   "metadata": {},
   "outputs": [],
   "source": [
    "def FRRat(filename,t0):\n",
    "    name=[]\n",
    "    dis=[]\n",
    "    pairs=[]\n",
    "    cnt=0\n",
    "    with open(filename) as f:\n",
    "        lines = f.readlines()\n",
    "        for l in lines:\n",
    "            s = l.split()\n",
    "            name.append(s[0])\n",
    "            dis.append([float(x) for x in s[1:]])\n",
    "            i=len(dis)-1\n",
    "            for j in range(len(dis[i])):\n",
    "                if i<j:\n",
    "                    pairs.append((dis[i][j],i,j))\n",
    "    pairs.sort()\n",
    "    \n",
    "    def same(i,j):\n",
    "        return name[i][:5] == name[j][:5]\n",
    "\n",
    "    cnt = 0 \n",
    "    tp,fp=0,0\n",
    "    tn,fn=0,0\n",
    "    for v,i,j in pairs:\n",
    "        if same(i,j):\n",
    "            cnt+=1\n",
    "            if v>t0:\n",
    "                fn+=1\n",
    "    print(fn/cnt)"
   ]
  },
  {
   "cell_type": "code",
   "execution_count": 126,
   "id": "79ef9ccc",
   "metadata": {},
   "outputs": [
    {
     "name": "stdout",
     "output_type": "stream",
     "text": [
      "0.10787913018921208\n",
      "0.18384637108161536\n",
      "0.017791584298220843\n"
     ]
    }
   ],
   "source": [
    " \n",
    "FRRat('di_insight_sort_linf_feret',0.20058727264404297/2) \n",
    "FRRat('di_insight_sort_e8_feret',0.039165496826171875) \n",
    "FRRat('di_insight_sort_le_feret',0.059818267822265625) \n",
    " "
   ]
  },
  {
   "cell_type": "code",
   "execution_count": null,
   "id": "92bc4bc2",
   "metadata": {},
   "outputs": [],
   "source": []
  },
  {
   "cell_type": "code",
   "execution_count": null,
   "id": "60eb6c86",
   "metadata": {},
   "outputs": [],
   "source": []
  },
  {
   "cell_type": "code",
   "execution_count": null,
   "id": "fe1de654",
   "metadata": {},
   "outputs": [],
   "source": []
  }
 ],
 "metadata": {
  "kernelspec": {
   "display_name": "Python 3 (ipykernel)",
   "language": "python",
   "name": "python3"
  },
  "language_info": {
   "codemirror_mode": {
    "name": "ipython",
    "version": 3
   },
   "file_extension": ".py",
   "mimetype": "text/x-python",
   "name": "python",
   "nbconvert_exporter": "python",
   "pygments_lexer": "ipython3",
   "version": "3.9.7"
  }
 },
 "nbformat": 4,
 "nbformat_minor": 5
}
