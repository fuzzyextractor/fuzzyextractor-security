{
 "cells": [
  {
   "cell_type": "code",
   "execution_count": 13,
   "metadata": {},
   "outputs": [],
   "source": [
    "feret=open(\"di_le_feret\",\"r\")"
   ]
  },
  {
   "cell_type": "code",
   "execution_count": 41,
   "metadata": {},
   "outputs": [],
   "source": [
    "\n",
    "import os\n",
    "\n",
    "N=2705\n",
    "name=[]\n",
    "d=[]\n",
    "def trim(s):\n",
    "    return s[0:5]\n",
    "\n",
    "def FRR(t):\n",
    "    al=0\n",
    "    cnt=0\n",
    "    for i in range(N):\n",
    "        for j in range(N):\n",
    "            if name[i]==name[j]:\n",
    "                al+=1\n",
    "                if d[i][j]>t:\n",
    "                    cnt+=1\n",
    "    return cnt/al\n",
    "\n",
    "def FAR(t):\n",
    "    al=0\n",
    "    cnt=0\n",
    "    for i in range(N):\n",
    "        for j in range(N):\n",
    "            if name[i]!=name[j]:\n",
    "                al+=1\n",
    "                if d[i][j]<t:\n",
    "                    cnt+=1\n",
    "    return cnt/al\n",
    "\n",
    "\n",
    "\n",
    "def atFRR(frr):\n",
    "    l=0.00001\n",
    "    r=10\n",
    "    for _ in range(20):\n",
    "        mid=(l+r)/2\n",
    "        if FRR(mid)>frr:\n",
    "            l=mid\n",
    "        else:\n",
    "            r=mid\n",
    "    return l\n",
    "\n",
    "def prob(mu, sigma,t):\n",
    "    return (-log(1/2 * (1 + erf((t-mu)/(sigma*sqrt(2)))),2)).n(100)\n",
    "\n",
    "def Galpha(t):\n",
    "    di=[]\n",
    "    for i in range(N):\n",
    "        al=0\n",
    "        s=0\n",
    "        for j in range(N):\n",
    "            if name[i]!=name[j]:\n",
    "                al+=1\n",
    "                s+=d[i][j]\n",
    "                \n",
    "        mu=s/al\n",
    "        sig=0\n",
    "        for j in range(N):\n",
    "            if name[i]!=name[j]:\n",
    "                sig+=(mu-d[i][j])*(mu-d[i][j])\n",
    "\n",
    "        sig=sqrt(sig/al)\n",
    "        bit=prob(mu, sig, t)\n",
    "        di.append(bit)\n",
    "    di.sort()\n",
    "    print(di[int(len(di)*0.5/10)],di[int(len(di)*2.5/10)],di[int(len(di)*5/10)],di[int(len(di)*7.5/10)],di[int(len(di)*9.5/10)])\n",
    "\n",
    "\n"
   ]
  },
  {
   "cell_type": "code",
   "execution_count": 42,
   "metadata": {},
   "outputs": [
    {
     "name": "stdout",
     "output_type": "stream",
     "text": [
      "2705\n",
      "(0.0166992838478088, 8/3653577)\n",
      "(39.152501551274040524823639079, 49.308929335388168016861726802, 55.159762559295797594201935647, 60.328617684930105880088949649, 68.180159661697523067017889696)\n"
     ]
    }
   ],
   "source": [
    "R100 = RealField(100)\n",
    "name=[]\n",
    "d=[]\n",
    "with open('di_le_feret') as f:\n",
    "    for line in f.readlines():\n",
    "        l=line.split()\n",
    "        name.append(trim(l[0]))\n",
    "        l.remove(l[0])\n",
    "        di=[R100(x) for x in l]\n",
    "        d.append(di)\n",
    " \n",
    "print(len(name))\n",
    "\n",
    "\n",
    "t70=atFRR(0.7)\n",
    "print(t70,FAR(t70))\n",
    "Galpha(t70)\n",
    "\n"
   ]
  }
 ],
 "metadata": {
  "kernelspec": {
   "display_name": "SageMath 8.9",
   "language": "sage",
   "name": "sagemath"
  },
  "language_info": {
   "codemirror_mode": {
    "name": "ipython",
    "version": 2
   },
   "file_extension": ".py",
   "mimetype": "text/x-python",
   "name": "python",
   "nbconvert_exporter": "python",
   "pygments_lexer": "ipython2",
   "version": "2.7.15"
  }
 },
 "nbformat": 4,
 "nbformat_minor": 2
}
